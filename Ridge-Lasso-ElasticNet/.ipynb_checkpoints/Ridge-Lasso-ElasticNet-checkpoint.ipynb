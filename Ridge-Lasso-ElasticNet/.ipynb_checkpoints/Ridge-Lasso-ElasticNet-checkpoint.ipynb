{
 "cells": [
  {
   "cell_type": "code",
   "execution_count": 13,
   "metadata": {
    "collapsed": false
   },
   "outputs": [],
   "source": [
    "import pandas as pd\n",
    "from pandas import *\n",
    "import seaborn as sns\n",
    "import matplotlib.pyplot as plt\n",
    "from sklearn.utils import shuffle\n",
    "from sklearn import datasets\n",
    "from sklearn import linear_model\n",
    "import sklearn as sk\n",
    "import numpy as np\n",
    "%matplotlib inline"
   ]
  },
  {
   "cell_type": "code",
   "execution_count": 14,
   "metadata": {
    "collapsed": false
   },
   "outputs": [
    {
     "data": {
      "text/html": [
       "<div>\n",
       "<table border=\"1\" class=\"dataframe\">\n",
       "  <thead>\n",
       "    <tr style=\"text-align: right;\">\n",
       "      <th></th>\n",
       "      <th>CRIM</th>\n",
       "      <th>ZN</th>\n",
       "      <th>INDUS</th>\n",
       "      <th>CHAS</th>\n",
       "      <th>NOX</th>\n",
       "      <th>RM</th>\n",
       "      <th>AGE</th>\n",
       "      <th>DIS</th>\n",
       "      <th>RAD</th>\n",
       "      <th>TAX</th>\n",
       "      <th>PTRATIO</th>\n",
       "      <th>B</th>\n",
       "      <th>LSTAT</th>\n",
       "      <th>target</th>\n",
       "    </tr>\n",
       "  </thead>\n",
       "  <tbody>\n",
       "    <tr>\n",
       "      <th>0</th>\n",
       "      <td>0.00632</td>\n",
       "      <td>18</td>\n",
       "      <td>2.31</td>\n",
       "      <td>0</td>\n",
       "      <td>0.538</td>\n",
       "      <td>6.575</td>\n",
       "      <td>65.2</td>\n",
       "      <td>4.09</td>\n",
       "      <td>1</td>\n",
       "      <td>296</td>\n",
       "      <td>15.3</td>\n",
       "      <td>396.9</td>\n",
       "      <td>4.98</td>\n",
       "      <td>24</td>\n",
       "    </tr>\n",
       "  </tbody>\n",
       "</table>\n",
       "</div>"
      ],
      "text/plain": [
       "      CRIM  ZN  INDUS  CHAS    NOX     RM   AGE   DIS  RAD  TAX  PTRATIO  \\\n",
       "0  0.00632  18   2.31     0  0.538  6.575  65.2  4.09    1  296     15.3   \n",
       "\n",
       "       B  LSTAT  target  \n",
       "0  396.9   4.98      24  "
      ]
     },
     "execution_count": 14,
     "metadata": {},
     "output_type": "execute_result"
    }
   ],
   "source": [
    "dataset = datasets.load_boston()\n",
    "df = pd.DataFrame(dataset.data, columns=dataset.feature_names)\n",
    "df['target'] = dataset.target\n",
    "df.head(1)"
   ]
  },
  {
   "cell_type": "code",
   "execution_count": 15,
   "metadata": {
    "collapsed": false
   },
   "outputs": [],
   "source": [
    "X,y = shuffle(dataset.data, dataset.target)\n",
    "X_train = X[0:200]\n",
    "y_train = y[0:200]\n",
    "X_valid = X[200:400]\n",
    "y_valid = y[200:400]\n",
    "X_test =X[400:]\n",
    "y_test =y[400:]"
   ]
  },
  {
   "cell_type": "code",
   "execution_count": 26,
   "metadata": {
    "collapsed": false
   },
   "outputs": [
    {
     "name": "stdout",
     "output_type": "stream",
     "text": [
      "          0          1\n",
      "0      CRIM   0.034760\n",
      "1        ZN   0.044317\n",
      "2     INDUS   0.071624\n",
      "3      CHAS   1.605167\n",
      "4       NOX -21.807986\n",
      "5        RM   3.560145\n",
      "6       AGE   0.013361\n",
      "7       DIS  -1.763604\n",
      "8       RAD   0.264034\n",
      "9       TAX  -0.013807\n",
      "10  PTRATIO  -1.167623\n",
      "11        B   0.016081\n",
      "12    LSTAT  -0.556785\n",
      "Linear Score =  -3.95824225001\n",
      "Lasso Score =  -3.81615437618\n",
      "Ridge Score =  -3.95051052025\n",
      "--------------\n",
      "Linear RMSE = 4.81002735964\n",
      "Lasso RMSE = 5.25465099791\n",
      "Ridge RMSE = 4.81358186957\n"
     ]
    }
   ],
   "source": [
    "model = sk.linear_model.LinearRegression()\n",
    "model.fit(X_train, y_train)\n",
    "model.coef_\n",
    "print (pd.DataFrame(list(zip(df.columns, model.coef_))))\n",
    "#######\n",
    "print (\"Linear Score = \", model.score(X, y))\n",
    "lasso = sk.linear_model.Lasso(alpha=1)\n",
    "lasso.fit(X_train, y_train)\n",
    "print (\"Lasso Score = \", lasso.score(X, y))\n",
    "ridge = sk.linear_model.RidgeCV()\n",
    "ridge.fit(X_train, y_train)\n",
    "print (\"Ridge Score = \", ridge.score(X, y))\n",
    "print (\"--------------\")\n",
    "print (\"Linear RMSE =\", np.sqrt(sk.metrics.mean_squared_error(y_train, model.predict(X_train))))\n",
    "print (\"Lasso RMSE =\", np.sqrt(sk.metrics.mean_squared_error(y_train, lasso.predict(X_train))))\n",
    "print (\"Ridge RMSE =\", np.sqrt(sk.metrics.mean_squared_error(y_train, ridge.predict(X_train))))"
   ]
  },
  {
   "cell_type": "code",
   "execution_count": 17,
   "metadata": {
    "collapsed": false
   },
   "outputs": [
    {
     "data": {
      "text/html": [
       "<div>\n",
       "<table border=\"1\" class=\"dataframe\">\n",
       "  <thead>\n",
       "    <tr style=\"text-align: right;\">\n",
       "      <th></th>\n",
       "      <th>attribute pair</th>\n",
       "      <th>correlation</th>\n",
       "    </tr>\n",
       "  </thead>\n",
       "  <tbody>\n",
       "    <tr>\n",
       "      <th>5</th>\n",
       "      <td>(RAD, TAX)</td>\n",
       "      <td>0.910228</td>\n",
       "    </tr>\n",
       "    <tr>\n",
       "      <th>1</th>\n",
       "      <td>(DIS, NOX)</td>\n",
       "      <td>-0.769230</td>\n",
       "    </tr>\n",
       "    <tr>\n",
       "      <th>0</th>\n",
       "      <td>(INDUS, NOX)</td>\n",
       "      <td>0.763651</td>\n",
       "    </tr>\n",
       "    <tr>\n",
       "      <th>12</th>\n",
       "      <td>(AGE, DIS)</td>\n",
       "      <td>-0.747881</td>\n",
       "    </tr>\n",
       "    <tr>\n",
       "      <th>19</th>\n",
       "      <td>(AGE, NOX)</td>\n",
       "      <td>0.731470</td>\n",
       "    </tr>\n",
       "  </tbody>\n",
       "</table>\n",
       "</div>"
      ],
      "text/plain": [
       "   attribute pair  correlation\n",
       "5      (RAD, TAX)     0.910228\n",
       "1      (DIS, NOX)    -0.769230\n",
       "0    (INDUS, NOX)     0.763651\n",
       "12     (AGE, DIS)    -0.747881\n",
       "19     (AGE, NOX)     0.731470"
      ]
     },
     "execution_count": 17,
     "metadata": {},
     "output_type": "execute_result"
    }
   ],
   "source": [
    "pearson = df.corr(method='pearson')\n",
    "# assume target attr is the last, then remove corr with itself\n",
    "corr_with_target = pearson.ix[-1][:-1]\n",
    "# attributes sorted from the most predictive\n",
    "predictivity = corr_with_target.sort(ascending=False)\n",
    "attrs = pearson.iloc[:-1,:-1] # all except target\n",
    "# only important correlations and not auto-correlations\n",
    "threshold = 0.5\n",
    "# {('LSTAT', 'TAX'): 0.543993, ('INDUS', 'RAD'): 0.595129, ...\n",
    "important_corrs = (attrs[abs(attrs) > threshold][attrs != 1.0]) \\\n",
    "    .unstack().dropna().to_dict()\n",
    "#     attribute pair  correlation\n",
    "# 0     (AGE, INDUS)     0.644779\n",
    "# 1     (INDUS, RAD)     0.595129\n",
    "# ...\n",
    "unique_important_corrs = pd.DataFrame(\n",
    "    list(set([(tuple(sorted(key)), important_corrs[key]) \\\n",
    "    for key in important_corrs])), columns=['attribute pair', 'correlation'])\n",
    "# sorted by absolute value\n",
    "unique_important_corrs = unique_important_corrs.ix[\n",
    "    abs(unique_important_corrs['correlation']).argsort()[::-1]]\n",
    "unique_important_corrs.head()"
   ]
  },
  {
   "cell_type": "code",
   "execution_count": 18,
   "metadata": {
    "collapsed": false
   },
   "outputs": [
    {
     "name": "stderr",
     "output_type": "stream",
     "text": [
      "C:\\Anaconda3\\lib\\site-packages\\seaborn\\linearmodels.py:1283: UserWarning: The `corrplot` function has been deprecated in favor of `heatmap` and will be removed in a forthcoming release. Please update your code.\n",
      "  warnings.warn((\"The `corrplot` function has been deprecated in favor \"\n",
      "C:\\Anaconda3\\lib\\site-packages\\seaborn\\linearmodels.py:1349: UserWarning: The `symmatplot` function has been deprecated in favor of `heatmap` and will be removed in a forthcoming release. Please update your code.\n",
      "  warnings.warn((\"The `symmatplot` function has been deprecated in favor \"\n"
     ]
    },
    {
     "data": {
      "text/plain": [
       "<matplotlib.axes._subplots.AxesSubplot at 0xab6a550>"
      ]
     },
     "execution_count": 18,
     "metadata": {},
     "output_type": "execute_result"
    },
    {
     "data": {
      "image/png": "[encoded data removed]",
      "text/plain": [
       "<matplotlib.figure.Figure at 0xab82518>"
      ]
     },
     "metadata": {},
     "output_type": "display_data"
    }
   ],
   "source": [
    "sns.corrplot(df, annot=False, sig_stars=False, diag_names=False)\n"
   ]
  },
  {
   "cell_type": "code",
   "execution_count": 19,
   "metadata": {
    "collapsed": false
   },
   "outputs": [
    {
     "data": {
      "text/plain": [
       "<matplotlib.axes._subplots.AxesSubplot at 0xac838d0>"
      ]
     },
     "execution_count": 19,
     "metadata": {},
     "output_type": "execute_result"
    },
    {
     "data": {
      "image/png": "[encoded data removed]",
      "text/plain": [
       "<matplotlib.figure.Figure at 0xab822e8>"
      ]
     },
     "metadata": {},
     "output_type": "display_data"
    }
   ],
   "source": [
    "attr = df['NOX']\n",
    "sns.distplot(attr)"
   ]
  },
  {
   "cell_type": "code",
   "execution_count": 20,
   "metadata": {
    "collapsed": false
   },
   "outputs": [
    {
     "data": {
      "text/plain": [
       "<seaborn.axisgrid.JointGrid at 0xaff3940>"
      ]
     },
     "execution_count": 20,
     "metadata": {},
     "output_type": "execute_result"
    },
    {
     "data": {
      "image/png": "[encoded data removed]",
      "text/plain": [
       "<matplotlib.figure.Figure at 0xad37c18>"
      ]
     },
     "metadata": {},
     "output_type": "display_data"
    },
    {
     "data": {
      "image/png": "[encoded data removed]",
      "text/plain": [
       "<matplotlib.figure.Figure at 0xaffb588>"
      ]
     },
     "metadata": {},
     "output_type": "display_data"
    }
   ],
   "source": [
    "plt.scatter(df['NOX'], df['INDUS'])\n",
    "x, y = df['NOX'], df['INDUS']\n",
    "plt.scatter(x, y, alpha=0.5)\n",
    "\n",
    "# or via jointplot (with histograms aside):\n",
    "sns.jointplot(x, y, kind='scatter', joint_kws={'alpha':0.5})"
   ]
  },
  {
   "cell_type": "code",
   "execution_count": null,
   "metadata": {
    "collapsed": true
   },
   "outputs": [],
   "source": []
  }
 ],
 "metadata": {
  "kernelspec": {
   "display_name": "Python 3",
   "language": "python",
   "name": "python3"
  },
  "language_info": {
   "codemirror_mode": {
    "name": "ipython",
    "version": 3
   },
   "file_extension": ".py",
   "mimetype": "text/x-python",
   "name": "python",
   "nbconvert_exporter": "python",
   "pygments_lexer": "ipython3",
   "version": "3.4.3"
  }
 },
 "nbformat": 4,
 "nbformat_minor": 0
}
